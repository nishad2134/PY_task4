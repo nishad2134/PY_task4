{
 "cells": [
  {
   "cell_type": "markdown",
   "id": "eb198eae-6abd-40e7-9ee5-6dc5c9197ced",
   "metadata": {},
   "source": [
    "# Dictionary"
   ]
  },
  {
   "cell_type": "markdown",
   "id": "476f6fe6-e2bc-4bf8-b975-4b18d472e419",
   "metadata": {},
   "source": [
    "# clear"
   ]
  },
  {
   "cell_type": "code",
   "execution_count": 3,
   "id": "841b0c4a-912c-4d86-a13f-e60bbc9fd599",
   "metadata": {},
   "outputs": [
    {
     "name": "stdout",
     "output_type": "stream",
     "text": [
      "{}\n"
     ]
    }
   ],
   "source": [
    "student = {\"name\": \"Nishad\", \"age\": 23}\n",
    "student.clear()\n",
    "print(student)  "
   ]
  },
  {
   "cell_type": "markdown",
   "id": "965c4b2c-f922-4166-962c-7cb5d15d692c",
   "metadata": {},
   "source": [
    "# Copy"
   ]
  },
  {
   "cell_type": "code",
   "execution_count": 9,
   "id": "16043c51-0a52-4283-a4b0-3f173c604cab",
   "metadata": {},
   "outputs": [
    {
     "name": "stdout",
     "output_type": "stream",
     "text": [
      "Original Dictionary: {'name': 'Nishad', 'age': 23}\n",
      "Copied Dictionary: {'name': 'Nishad', 'age': 23}\n"
     ]
    }
   ],
   "source": [
    "original_dict = {\"name\": \"Nishad\", \"age\": 23}\n",
    "copied_dict = original_dict.copy()\n",
    "print(\"Original Dictionary:\", original_dict)  \n",
    "print(\"Copied Dictionary:\", copied_dict)      \n",
    "\n"
   ]
  },
  {
   "cell_type": "markdown",
   "id": "9f215273-d900-4d09-aa1c-1ecf30d56232",
   "metadata": {},
   "source": [
    "# Fromkey"
   ]
  },
  {
   "cell_type": "code",
   "execution_count": 12,
   "id": "99586353-13f3-409c-8d9e-d312b30ed19f",
   "metadata": {},
   "outputs": [
    {
     "name": "stdout",
     "output_type": "stream",
     "text": [
      "{'a': 1, 'b': 1, 'c': 1}\n"
     ]
    }
   ],
   "source": [
    "keys = ['a', 'b', 'c']\n",
    "value = 1\n",
    "new_dict = dict.fromkeys(keys, value)\n",
    "print(new_dict)  \n"
   ]
  },
  {
   "cell_type": "markdown",
   "id": "853e30af-d440-41d4-b0f0-285befb61edf",
   "metadata": {},
   "source": [
    "# Get"
   ]
  },
  {
   "cell_type": "code",
   "execution_count": 15,
   "id": "3b5a3d74-ea20-4e07-8dc5-a99feebc71a2",
   "metadata": {},
   "outputs": [],
   "source": [
    "car = {\n",
    "  \"brand\": \"Ford\",\n",
    "  \"model\": \"Mustang\",\n",
    "  \"year\": 1964\n",
    "}"
   ]
  },
  {
   "cell_type": "code",
   "execution_count": 27,
   "id": "34ca7fbc-007c-4bbf-a8f6-4d9d366e63c6",
   "metadata": {},
   "outputs": [],
   "source": [
    "x = car.get(\"model\",\"year\")\n"
   ]
  },
  {
   "cell_type": "code",
   "execution_count": 31,
   "id": "62c07895-ace2-479f-8bf9-49d1d0df7139",
   "metadata": {},
   "outputs": [
    {
     "name": "stdout",
     "output_type": "stream",
     "text": [
      "Mustang\n"
     ]
    }
   ],
   "source": [
    "print(x)"
   ]
  },
  {
   "cell_type": "markdown",
   "id": "fcda454b-4952-4784-989d-37ae3d4b3329",
   "metadata": {},
   "source": [
    "# Items"
   ]
  },
  {
   "cell_type": "code",
   "execution_count": 36,
   "id": "085e0493-509c-41ca-a605-be95b6f2276e",
   "metadata": {},
   "outputs": [],
   "source": [
    "student = {\n",
    "  \"name\": \"sam\",\n",
    "  \"age\": \"16\",\n",
    "  \"class\": 10\n",
    "}\n",
    "\n",
    "x = student.items()\n"
   ]
  },
  {
   "cell_type": "code",
   "execution_count": 38,
   "id": "019f0bae-b6ce-4bdf-97b3-b294de0ff95d",
   "metadata": {},
   "outputs": [
    {
     "data": {
      "text/plain": [
       "10"
      ]
     },
     "execution_count": 38,
     "metadata": {},
     "output_type": "execute_result"
    }
   ],
   "source": [
    "student[\"class\"]"
   ]
  },
  {
   "cell_type": "code",
   "execution_count": 40,
   "id": "fd7ec1fa-3d77-47bc-b254-d47fb932b1f6",
   "metadata": {},
   "outputs": [
    {
     "name": "stdout",
     "output_type": "stream",
     "text": [
      "dict_items([('name', 'sam'), ('age', '16'), ('class', 10)])\n"
     ]
    }
   ],
   "source": [
    "print(x)"
   ]
  },
  {
   "cell_type": "markdown",
   "id": "e1e51ad4-6c5b-40c2-b6f1-5b0e333311ed",
   "metadata": {},
   "source": [
    "# Keys"
   ]
  },
  {
   "cell_type": "code",
   "execution_count": 43,
   "id": "615056e6-8be0-4c32-84fe-8c37a413821e",
   "metadata": {},
   "outputs": [],
   "source": [
    "mobile = {\n",
    "  \"brand\": \"Motorola\",\n",
    "  \"model\": \"G82\",\n",
    "  \"year\": 2022\n",
    "}"
   ]
  },
  {
   "cell_type": "code",
   "execution_count": 45,
   "id": "d834fa02-59c3-4b93-9d26-d77b0b644175",
   "metadata": {},
   "outputs": [],
   "source": [
    "x = mobile.keys()\n"
   ]
  },
  {
   "cell_type": "code",
   "execution_count": 47,
   "id": "4a523c07-1366-4fbc-8637-2116c53a023f",
   "metadata": {},
   "outputs": [],
   "source": [
    "mobile[\"color\"] = \"black\""
   ]
  },
  {
   "cell_type": "code",
   "execution_count": 49,
   "id": "b17c48a5-ff19-41fb-92fc-6070e73768ea",
   "metadata": {},
   "outputs": [
    {
     "name": "stdout",
     "output_type": "stream",
     "text": [
      "dict_keys(['brand', 'model', 'year', 'color'])\n"
     ]
    }
   ],
   "source": [
    "print(x)"
   ]
  },
  {
   "cell_type": "markdown",
   "id": "95f98d7f-55e1-4a9b-93d6-e2969b32e157",
   "metadata": {},
   "source": [
    "# pop"
   ]
  },
  {
   "cell_type": "code",
   "execution_count": 60,
   "id": "9a9f5938-f59a-4cfb-a6ef-c2d185e577c8",
   "metadata": {},
   "outputs": [],
   "source": [
    "student = {\"name\": \"John\", \"age\": 21, \"grade\": \"A\"}\n",
    "age = student.pop(\"age\")\n",
    "\n"
   ]
  },
  {
   "cell_type": "code",
   "execution_count": 62,
   "id": "1ee7fb2e-4399-4eb7-894e-419d24db6459",
   "metadata": {},
   "outputs": [
    {
     "name": "stdout",
     "output_type": "stream",
     "text": [
      "21\n"
     ]
    }
   ],
   "source": [
    "print(age)  "
   ]
  },
  {
   "cell_type": "code",
   "execution_count": 64,
   "id": "30f7dbcd-108a-4976-a96e-334a9c9a2de0",
   "metadata": {},
   "outputs": [
    {
     "name": "stdout",
     "output_type": "stream",
     "text": [
      "{'name': 'John', 'grade': 'A'}\n"
     ]
    }
   ],
   "source": [
    "print(student)  "
   ]
  },
  {
   "cell_type": "markdown",
   "id": "35fb62c9-83e0-45e3-8e2b-95c3e46fc7ad",
   "metadata": {},
   "source": [
    "# update"
   ]
  },
  {
   "cell_type": "code",
   "execution_count": 67,
   "id": "41e60279-07d4-4d3a-b98d-23af07ba73dc",
   "metadata": {},
   "outputs": [],
   "source": [
    "dict1 = {'a': 1, 'b': 2}\n",
    "dict1.update(b=3, c=4)\n"
   ]
  },
  {
   "cell_type": "code",
   "execution_count": 69,
   "id": "19358e2b-6285-4249-b3ec-cf09a6f1128c",
   "metadata": {},
   "outputs": [
    {
     "name": "stdout",
     "output_type": "stream",
     "text": [
      "{'a': 1, 'b': 3, 'c': 4}\n"
     ]
    }
   ],
   "source": [
    "print(dict1)"
   ]
  },
  {
   "cell_type": "raw",
   "id": "6afba0d5-9538-4c51-a7be-cf1e01870c28",
   "metadata": {},
   "source": [
    "https://www.w3schools.com/python/python_ref_dictionary.asp"
   ]
  },
  {
   "cell_type": "markdown",
   "id": "e613a030-bba0-4c22-bef9-eda66a7b7bba",
   "metadata": {},
   "source": [
    "# if/else \n"
   ]
  },
  {
   "cell_type": "code",
   "execution_count": null,
   "id": "d426c9f1-03cb-4bf2-a038-46e5e1a36664",
   "metadata": {},
   "outputs": [],
   "source": []
  },
  {
   "cell_type": "code",
   "execution_count": null,
   "id": "5cb42bbe-327c-4e31-b93c-0461a6171415",
   "metadata": {},
   "outputs": [],
   "source": []
  }
 ],
 "metadata": {
  "kernelspec": {
   "display_name": "Python 3 (ipykernel)",
   "language": "python",
   "name": "python3"
  },
  "language_info": {
   "codemirror_mode": {
    "name": "ipython",
    "version": 3
   },
   "file_extension": ".py",
   "mimetype": "text/x-python",
   "name": "python",
   "nbconvert_exporter": "python",
   "pygments_lexer": "ipython3",
   "version": "3.12.4"
  }
 },
 "nbformat": 4,
 "nbformat_minor": 5
}
