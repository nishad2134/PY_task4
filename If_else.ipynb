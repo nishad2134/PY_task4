{
 "cells": [
  {
   "cell_type": "markdown",
   "id": "25bf7a0c-dd12-4f4f-ac0b-c25371dc98a4",
   "metadata": {},
   "source": [
    "# if/else examples"
   ]
  },
  {
   "cell_type": "code",
   "execution_count": 6,
   "id": "cafe83b8-4ebe-46b0-9822-f25db6fb745b",
   "metadata": {},
   "outputs": [
    {
     "name": "stdout",
     "output_type": "stream",
     "text": [
      "number is greater than 5\n"
     ]
    }
   ],
   "source": [
    "num= 10 \n",
    "if num >5:\n",
    "       print(\"number is greater than 5\")"
   ]
  },
  {
   "cell_type": "code",
   "execution_count": 8,
   "id": "85366276-a3ab-4b11-a397-33f968b75a33",
   "metadata": {},
   "outputs": [
    {
     "name": "stdout",
     "output_type": "stream",
     "text": [
      "numeber is less than 5\n"
     ]
    }
   ],
   "source": [
    "num = 3\n",
    "if num > 5:\n",
    "    print(\"number is greater than 5\")\n",
    "else:\n",
    "    print(\"numeber is less than 5\")"
   ]
  },
  {
   "cell_type": "code",
   "execution_count": 10,
   "id": "d5deed1b-05fc-44fc-ae2c-ce0777a5396b",
   "metadata": {},
   "outputs": [
    {
     "name": "stdout",
     "output_type": "stream",
     "text": [
      "Number is greater than 5 but less than or equal to 10\n"
     ]
    }
   ],
   "source": [
    "num = 8 \n",
    "if num > 10:\n",
    "    print(\"Number is greater than 10\")\n",
    "elif num>5:\n",
    "    print(\"Number is greater than 5 but less than or equal to 10\")\n",
    "else:\n",
    "    print(\"Number is 5 or less\")"
   ]
  },
  {
   "cell_type": "code",
   "execution_count": 19,
   "id": "06c55955-ab78-431e-845a-7c649ab2e81c",
   "metadata": {},
   "outputs": [
    {
     "name": "stdout",
     "output_type": "stream",
     "text": [
      "Number is greater than 10 but less than or equal to 20\n"
     ]
    }
   ],
   "source": [
    "num = 15\n",
    "if num > 10:\n",
    "    if num > 20:\n",
    "        print(\"Number is greater than 20\")\n",
    "    else:\n",
    "        print(\"Number is greater than 10 but less than or equal to 20\")\n",
    "else:\n",
    "    print(\"Number is 10 or less\")\n"
   ]
  },
  {
   "cell_type": "code",
   "execution_count": 21,
   "id": "1c37c14a-8999-4e04-a00f-9d47e7fc9b81",
   "metadata": {},
   "outputs": [
    {
     "name": "stdout",
     "output_type": "stream",
     "text": [
      "Number is even\n"
     ]
    }
   ],
   "source": [
    "num = 4\n",
    "if num % 2 == 0:\n",
    "    print(\"Number is even\")\n",
    "else:\n",
    "    print(\"Number is odd\")\n"
   ]
  },
  {
   "cell_type": "code",
   "execution_count": null,
   "id": "f6ab830f-97eb-44b9-a014-5eca0f6b3192",
   "metadata": {},
   "outputs": [],
   "source": []
  }
 ],
 "metadata": {
  "kernelspec": {
   "display_name": "Python 3 (ipykernel)",
   "language": "python",
   "name": "python3"
  },
  "language_info": {
   "codemirror_mode": {
    "name": "ipython",
    "version": 3
   },
   "file_extension": ".py",
   "mimetype": "text/x-python",
   "name": "python",
   "nbconvert_exporter": "python",
   "pygments_lexer": "ipython3",
   "version": "3.12.4"
  }
 },
 "nbformat": 4,
 "nbformat_minor": 5
}
